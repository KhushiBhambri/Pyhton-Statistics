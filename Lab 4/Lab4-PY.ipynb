{
 "cells": [
  {
   "cell_type": "markdown",
   "metadata": {},
   "source": [
    "## Linear Regression with Gradient Descent from scratch\n",
    " one variable linear regression\n",
    "\n",
    " Multiple variable linear regression\n",
    " \n",
    " Gradient Descent - squared mean cost function\n"
   ]
  },
  {
   "cell_type": "code",
   "execution_count": 2,
   "metadata": {},
   "outputs": [],
   "source": [
    "import pandas as pd\n",
    "import seaborn as sns\n",
    "import matplotlib.pyplot as plt\n",
    "from sklearn.model_selection import train_test_split\n",
    "from sklearn.linear_model import LinearRegression\n",
    "plt.rcParams['figure.figsize'] = (12.0, 6.0)"
   ]
  },
  {
   "cell_type": "code",
   "execution_count": 16,
   "metadata": {},
   "outputs": [],
   "source": [
    "def prediction(Xtrain,coeff):\n",
    "    Ypred=[]\n",
    "    cols=Xtrain.columns\n",
    "    for i in range(Xtrain.shape[0]):\n",
    "        y=coeff[0]\n",
    "        x=Xtrain.loc[i]\n",
    "        for j in range (1,len(coeff)):\n",
    "            y+=coeff[j]*(x[cols[j-1]])\n",
    "        Ypred.append(y)\n",
    "    return Ypred\n",
    "\n",
    "def Coefficients(Ytrain,Xtrain,coeff,alpha=0.000001):\n",
    "    # using gradiant decent with squared mean cost function\n",
    "    Ypred = prediction(Xtrain,coeff)\n",
    "    pd=[0]*len(coeff)\n",
    "    cols=Xtrain.columns\n",
    "    for i in range (len (Ypred)):\n",
    "        x=Xtrain.loc[i]\n",
    "        pd[0]+=(Ypred[i]-Ytrain[i])\n",
    "        for j in range (1,len(coeff)):\n",
    "                pd[j]+=(Ypred[i]-Ytrain[i])*x[cols[j-1]]\n",
    "                \n",
    "    for i in range(len(coeff)):\n",
    "        pd[i]=(pd[i]*2)/len(Ypred)\n",
    "        coeff[i]=coeff[i]-(alpha*(pd[i]))\n",
    "    return coeff\n",
    "\n",
    "def LinRegression(Xtrain,Ytrain,Xtest,Ytest,inbuilt=0,coeff=[1]):\n",
    "    if(inbuilt):\n",
    "        linreg=LinearRegression()\n",
    "        linreg.fit(Xtrain,Ytrain)\n",
    "        predictions=linreg.predict(Xtest)\n",
    "        coefficients=[linreg.intercept_]\n",
    "        coefficients.extend(linreg.coef_)\n",
    "        return coefficients,predictions,linreg.score(Xtest,Ytest)\n",
    "    else:\n",
    "        if(len(coeff)==1):\n",
    "            coeff=[1]*(len(Xtrain.columns)+1)\n",
    "        alpha=0.00000005\n",
    "        rounds=50\n",
    "        for i in range(rounds):\n",
    "            coeff=Coefficients(Ytrain,Xtrain,coeff,alpha)\n",
    "        Ypred=prediction(Xtest,coeff)\n",
    "        return coeff,Ypred"
   ]
  },
  {
   "cell_type": "code",
   "execution_count": 4,
   "metadata": {},
   "outputs": [
    {
     "data": {
      "text/html": [
       "<div>\n",
       "<style scoped>\n",
       "    .dataframe tbody tr th:only-of-type {\n",
       "        vertical-align: middle;\n",
       "    }\n",
       "\n",
       "    .dataframe tbody tr th {\n",
       "        vertical-align: top;\n",
       "    }\n",
       "\n",
       "    .dataframe thead th {\n",
       "        text-align: right;\n",
       "    }\n",
       "</style>\n",
       "<table border=\"1\" class=\"dataframe\">\n",
       "  <thead>\n",
       "    <tr style=\"text-align: right;\">\n",
       "      <th></th>\n",
       "      <th>Unnamed: 0</th>\n",
       "      <th>Unnamed: 0.1</th>\n",
       "      <th>Unnamed: 0.1.1</th>\n",
       "      <th>gold</th>\n",
       "      <th>silver</th>\n",
       "    </tr>\n",
       "  </thead>\n",
       "  <tbody>\n",
       "    <tr>\n",
       "      <th>0</th>\n",
       "      <td>0</td>\n",
       "      <td>535</td>\n",
       "      <td>1980-01-18</td>\n",
       "      <td>469.20</td>\n",
       "      <td>1854.23</td>\n",
       "    </tr>\n",
       "    <tr>\n",
       "      <th>1</th>\n",
       "      <td>1</td>\n",
       "      <td>536</td>\n",
       "      <td>1980-01-21</td>\n",
       "      <td>478.56</td>\n",
       "      <td>1901.93</td>\n",
       "    </tr>\n",
       "    <tr>\n",
       "      <th>2</th>\n",
       "      <td>2</td>\n",
       "      <td>537</td>\n",
       "      <td>1980-01-22</td>\n",
       "      <td>450.93</td>\n",
       "      <td>1856.74</td>\n",
       "    </tr>\n",
       "    <tr>\n",
       "      <th>3</th>\n",
       "      <td>3</td>\n",
       "      <td>7780</td>\n",
       "      <td>2007-10-26</td>\n",
       "      <td>451.42</td>\n",
       "      <td>550.24</td>\n",
       "    </tr>\n",
       "    <tr>\n",
       "      <th>4</th>\n",
       "      <td>4</td>\n",
       "      <td>7781</td>\n",
       "      <td>2007-10-29</td>\n",
       "      <td>454.49</td>\n",
       "      <td>556.20</td>\n",
       "    </tr>\n",
       "  </tbody>\n",
       "</table>\n",
       "</div>"
      ],
      "text/plain": [
       "   Unnamed: 0  Unnamed: 0.1 Unnamed: 0.1.1    gold   silver\n",
       "0           0           535     1980-01-18  469.20  1854.23\n",
       "1           1           536     1980-01-21  478.56  1901.93\n",
       "2           2           537     1980-01-22  450.93  1856.74\n",
       "3           3          7780     2007-10-26  451.42   550.24\n",
       "4           4          7781     2007-10-29  454.49   556.20"
      ]
     },
     "execution_count": 4,
     "metadata": {},
     "output_type": "execute_result"
    }
   ],
   "source": [
    "df=pd.read_csv('gold-silver.csv')\n",
    "df.reset_index(drop=True,inplace=True)\n",
    "df.head()"
   ]
  },
  {
   "cell_type": "code",
   "execution_count": 5,
   "metadata": {},
   "outputs": [
    {
     "data": {
      "text/plain": [
       "<AxesSubplot:xlabel='gold', ylabel='silver'>"
      ]
     },
     "execution_count": 5,
     "metadata": {},
     "output_type": "execute_result"
    },
    {
     "data": {
      "image/png": "[encoded data removed]",
      "text/plain": [
       "<Figure size 864x432 with 1 Axes>"
      ]
     },
     "metadata": {},
     "output_type": "display_data"
    }
   ],
   "source": [
    "sns.scatterplot(data=df,x='gold',y='silver')"
   ]
  },
  {
   "cell_type": "code",
   "execution_count": 17,
   "metadata": {},
   "outputs": [],
   "source": [
    "X=df[['gold']]\n",
    "Y=df['silver']\n",
    "x_train,x_test,y_train,y_test=train_test_split(X,Y,test_size=0.33,random_state=101);\n",
    "x_train.reset_index(drop=True,inplace=True)\n",
    "x_test.reset_index(drop=True,inplace=True)\n",
    "y_train.reset_index(drop=True,inplace=True)\n",
    "y_test.reset_index(drop=True,inplace=True)"
   ]
  },
  {
   "cell_type": "markdown",
   "metadata": {},
   "source": [
    "### scratch"
   ]
  },
  {
   "cell_type": "code",
   "execution_count": 18,
   "metadata": {},
   "outputs": [
    {
     "name": "stdout",
     "output_type": "stream",
     "text": [
      "coefficients of Scratch LinearReg model: \n",
      " [-310.00040204773444, 1.698138419276815] \n",
      "\n",
      "predictions of Scratch LinearReg model: \n",
      " [950.9522811862644, 1177.5518718545627, 769.3703400129946, 597.0262718405907, 469.59796485805845, 474.5565290423469, 1206.1485228351844, 1344.2411390907748, 1148.4287979639653, 1266.9758410136797, 1324.237068511694, 852.0866624159682, 532.700788518385, 1222.3997075076634, 577.4297544821363, 719.8526237068827, 1304.9462160687092, 1246.5642172139724, 465.7431906463002, 555.472824720887] \n",
      "\n"
     ]
    }
   ],
   "source": [
    "Ypred=LinRegression(x_train, y_train, x_test, y_test, inbuilt=0,coeff=[-310,2])\n",
    "print(\"coefficients of Scratch LinearReg model: \\n\",Ypred[0],\"\\n\")\n",
    "print(\"predictions of Scratch LinearReg model: \\n\",Ypred[1][:20],\"\\n\")\n",
    "# print(\"accuracy of this model is : \")"
   ]
  },
  {
   "cell_type": "markdown",
   "metadata": {},
   "source": [
    "### inbuilt"
   ]
  },
  {
   "cell_type": "code",
   "execution_count": 19,
   "metadata": {},
   "outputs": [
    {
     "name": "stdout",
     "output_type": "stream",
     "text": [
      "coefficients of Inbuilt LinearReg model: \n",
      " [-299.61019690007913, 1.6622347587478172] \n",
      "\n",
      "predictions of Inbuilt LinearReg model: \n",
      " [ 934.68222321 1156.49082942  756.93946046  588.23925479  463.50515849\n",
      "  468.35888399 1184.48286275 1319.65579333 1127.9835033  1244.02411181\n",
      " 1300.07466788  837.90691555  525.27380213 1200.39044939  569.05706567\n",
      "  708.46869489 1281.19168102 1224.04405001  459.73188559  547.56437024] \n",
      "\n",
      "accuracy of this model is :  0.7434206994180984\n"
     ]
    }
   ],
   "source": [
    "predict=LinRegression(x_train, y_train, x_test, y_test, inbuilt=1)\n",
    "print(\"coefficients of Inbuilt LinearReg model: \\n\",predict[0],\"\\n\")\n",
    "print(\"predictions of Inbuilt LinearReg model: \\n\",predict[1][:20],\"\\n\")\n",
    "print(\"accuracy of this model is : \",predict[2])"
   ]
  },
  {
   "cell_type": "markdown",
   "metadata": {},
   "source": [
    "### line model"
   ]
  },
  {
   "cell_type": "code",
   "execution_count": 9,
   "metadata": {},
   "outputs": [
    {
     "data": {
      "text/plain": [
       "[<matplotlib.lines.Line2D at 0x226b2c85d20>]"
      ]
     },
     "execution_count": 9,
     "metadata": {},
     "output_type": "execute_result"
    },
    {
     "data": {
      "image/png": "[encoded data removed]",
      "text/plain": [
       "<Figure size 864x432 with 1 Axes>"
      ]
     },
     "metadata": {},
     "output_type": "display_data"
    }
   ],
   "source": [
    "plt.scatter(X,Y)\n",
    "plt.plot([min(X[X.columns[0]]), max(X[X.columns[0]])], [min(Ypred[1]), max(Ypred[1])], color='red') #scratch\n",
    "plt.plot([min(X[X.columns[0]]), max(X[X.columns[0]])], [min(predict[1]), max(predict[1])], color='purple') #inbuilt"
   ]
  },
  {
   "cell_type": "code",
   "execution_count": 10,
   "metadata": {},
   "outputs": [
    {
     "data": {
      "text/html": [
       "<div>\n",
       "<style scoped>\n",
       "    .dataframe tbody tr th:only-of-type {\n",
       "        vertical-align: middle;\n",
       "    }\n",
       "\n",
       "    .dataframe tbody tr th {\n",
       "        vertical-align: top;\n",
       "    }\n",
       "\n",
       "    .dataframe thead th {\n",
       "        text-align: right;\n",
       "    }\n",
       "</style>\n",
       "<table border=\"1\" class=\"dataframe\">\n",
       "  <thead>\n",
       "    <tr style=\"text-align: right;\">\n",
       "      <th></th>\n",
       "      <th>price</th>\n",
       "      <th>speed</th>\n",
       "      <th>hd</th>\n",
       "      <th>ram</th>\n",
       "      <th>screen</th>\n",
       "      <th>ads</th>\n",
       "      <th>trend</th>\n",
       "    </tr>\n",
       "  </thead>\n",
       "  <tbody>\n",
       "    <tr>\n",
       "      <th>count</th>\n",
       "      <td>6259.000000</td>\n",
       "      <td>6259.000000</td>\n",
       "      <td>6259.000000</td>\n",
       "      <td>6259.000000</td>\n",
       "      <td>6259.000000</td>\n",
       "      <td>6259.000000</td>\n",
       "      <td>6259.000000</td>\n",
       "    </tr>\n",
       "    <tr>\n",
       "      <th>mean</th>\n",
       "      <td>2219.576610</td>\n",
       "      <td>52.011024</td>\n",
       "      <td>416.601694</td>\n",
       "      <td>8.286947</td>\n",
       "      <td>14.608723</td>\n",
       "      <td>221.301007</td>\n",
       "      <td>15.926985</td>\n",
       "    </tr>\n",
       "    <tr>\n",
       "      <th>std</th>\n",
       "      <td>580.803956</td>\n",
       "      <td>21.157735</td>\n",
       "      <td>258.548445</td>\n",
       "      <td>5.631099</td>\n",
       "      <td>0.905115</td>\n",
       "      <td>74.835284</td>\n",
       "      <td>7.873984</td>\n",
       "    </tr>\n",
       "    <tr>\n",
       "      <th>min</th>\n",
       "      <td>949.000000</td>\n",
       "      <td>25.000000</td>\n",
       "      <td>80.000000</td>\n",
       "      <td>2.000000</td>\n",
       "      <td>14.000000</td>\n",
       "      <td>39.000000</td>\n",
       "      <td>1.000000</td>\n",
       "    </tr>\n",
       "    <tr>\n",
       "      <th>25%</th>\n",
       "      <td>1794.000000</td>\n",
       "      <td>33.000000</td>\n",
       "      <td>214.000000</td>\n",
       "      <td>4.000000</td>\n",
       "      <td>14.000000</td>\n",
       "      <td>162.500000</td>\n",
       "      <td>10.000000</td>\n",
       "    </tr>\n",
       "    <tr>\n",
       "      <th>50%</th>\n",
       "      <td>2144.000000</td>\n",
       "      <td>50.000000</td>\n",
       "      <td>340.000000</td>\n",
       "      <td>8.000000</td>\n",
       "      <td>14.000000</td>\n",
       "      <td>246.000000</td>\n",
       "      <td>16.000000</td>\n",
       "    </tr>\n",
       "    <tr>\n",
       "      <th>75%</th>\n",
       "      <td>2595.000000</td>\n",
       "      <td>66.000000</td>\n",
       "      <td>528.000000</td>\n",
       "      <td>8.000000</td>\n",
       "      <td>15.000000</td>\n",
       "      <td>275.000000</td>\n",
       "      <td>21.500000</td>\n",
       "    </tr>\n",
       "    <tr>\n",
       "      <th>max</th>\n",
       "      <td>5399.000000</td>\n",
       "      <td>100.000000</td>\n",
       "      <td>2100.000000</td>\n",
       "      <td>32.000000</td>\n",
       "      <td>17.000000</td>\n",
       "      <td>339.000000</td>\n",
       "      <td>35.000000</td>\n",
       "    </tr>\n",
       "  </tbody>\n",
       "</table>\n",
       "</div>"
      ],
      "text/plain": [
       "             price        speed           hd          ram       screen  \\\n",
       "count  6259.000000  6259.000000  6259.000000  6259.000000  6259.000000   \n",
       "mean   2219.576610    52.011024   416.601694     8.286947    14.608723   \n",
       "std     580.803956    21.157735   258.548445     5.631099     0.905115   \n",
       "min     949.000000    25.000000    80.000000     2.000000    14.000000   \n",
       "25%    1794.000000    33.000000   214.000000     4.000000    14.000000   \n",
       "50%    2144.000000    50.000000   340.000000     8.000000    14.000000   \n",
       "75%    2595.000000    66.000000   528.000000     8.000000    15.000000   \n",
       "max    5399.000000   100.000000  2100.000000    32.000000    17.000000   \n",
       "\n",
       "               ads        trend  \n",
       "count  6259.000000  6259.000000  \n",
       "mean    221.301007    15.926985  \n",
       "std      74.835284     7.873984  \n",
       "min      39.000000     1.000000  \n",
       "25%     162.500000    10.000000  \n",
       "50%     246.000000    16.000000  \n",
       "75%     275.000000    21.500000  \n",
       "max     339.000000    35.000000  "
      ]
     },
     "execution_count": 10,
     "metadata": {},
     "output_type": "execute_result"
    }
   ],
   "source": [
    "data=pd.read_csv('Computers.csv')\n",
    "data=data.drop('index',axis=1)\n",
    "# data.isna().sum()\n",
    "# data.info()\n",
    "data.describe()"
   ]
  },
  {
   "cell_type": "code",
   "execution_count": 11,
   "metadata": {},
   "outputs": [
    {
     "name": "stdout",
     "output_type": "stream",
     "text": [
      "Index(['price', 'speed', 'hd', 'ram', 'screen', 'ads', 'trend'], dtype='object')\n"
     ]
    }
   ],
   "source": [
    "print(data.describe().columns)\n",
    "X=data[['speed', 'hd', 'ram', 'screen', 'ads', 'trend']]\n",
    "Y=data['price']\n",
    "Xtrain,Xtest,Ytrain,Ytest=train_test_split(X,Y,test_size=0.33,random_state=101)\n",
    "Xtrain.reset_index(drop=True,inplace=True)\n",
    "Xtest.reset_index(drop=True,inplace=True)\n",
    "Ytrain.reset_index(drop=True,inplace=True)\n",
    "Ytest.reset_index(drop=True,inplace=True)"
   ]
  },
  {
   "cell_type": "code",
   "execution_count": 21,
   "metadata": {},
   "outputs": [
    {
     "name": "stdout",
     "output_type": "stream",
     "text": [
      "coefficients of Scratch LinearReg model: \n",
      " [-219.99999915993135, 8.999455258913098, 0.6873230599114823, 48.566767882298144, 123.00000164920559, 0.9039752943493454, -45.000649057860606] \n",
      "\n",
      "predictions of Scratch LinearReg model: \n",
      " [2474.846090928147, 2013.4752043649619, 2121.55600836767, 2387.5480634251585, 2096.6754973553248, 1939.703272738784, 2222.1455125963157, 2550.5374888199212, 1635.7439539829566, 1832.9928419157022, 2099.14551094711, 2456.43322356675, 2040.0893880188414, 2803.960383451268, 2163.7340992140025, 3099.4304420097687, 2952.6337237842004, 2050.3198543825642, 2496.4669396625914, 1745.178012901738] \n",
      "\n",
      "\n",
      "coefficients of Inbuilt LinearReg model: \n",
      " [-220.81138066679068, 9.079632315716312, 0.6931315187850993, 48.56689435991617, 123.89380638869018, 0.9728600552677455, -47.01742728087182] \n",
      "\n",
      "predictions of Inbuilt LinearReg model: \n",
      " [2492.0238071  2004.67837281 2118.17042848 2395.67804078 2099.33425182\n",
      " 1940.78672881 2239.32017624 2550.7717336  1611.29777378 1838.74872839\n",
      " 2115.42636985 2465.66356732 2040.3098675  2807.48988194 2179.92387147\n",
      " 3111.0980925  2952.55207504 2063.08172073 2502.76272734 1749.23508825] \n",
      "\n",
      "accuracy of this model is : \n"
     ]
    }
   ],
   "source": [
    "Ypred=LinRegression(Xtrain, Ytrain, Xtest, Ytest,0,[-220, 9, 0.7, 48, 123, 0.9, -45])\n",
    "print(\"coefficients of Scratch LinearReg model: \\n\",Ypred[0],\"\\n\")\n",
    "print(\"predictions of Scratch LinearReg model: \\n\",Ypred[1][:20],\"\\n\\n\")\n",
    "\n",
    "predict=LinRegression(Xtrain, Ytrain, Xtest, Ytest,1)\n",
    "print(\"coefficients of Inbuilt LinearReg model: \\n\",predict[0],\"\\n\")\n",
    "print(\"predictions of Inbuilt LinearReg model: \\n\",predict[1][:20],\"\\n\")\n",
    "print(\"accuracy of this model is : \")"
   ]
  },
  {
   "cell_type": "code",
   "execution_count": null,
   "metadata": {},
   "outputs": [],
   "source": []
  }
 ],
 "metadata": {
  "interpreter": {
   "hash": "2904bd9469133d0b3edd76eef0f7baebc7acdba90d2210305f62dfd86384a696"
  },
  "kernelspec": {
   "display_name": "Python 3.10.0 64-bit",
   "language": "python",
   "name": "python3"
  },
  "language_info": {
   "codemirror_mode": {
    "name": "ipython",
    "version": 3
   },
   "file_extension": ".py",
   "mimetype": "text/x-python",
   "name": "python",
   "nbconvert_exporter": "python",
   "pygments_lexer": "ipython3",
   "version": "3.10.0"
  },
  "orig_nbformat": 4
 },
 "nbformat": 4,
 "nbformat_minor": 2
}

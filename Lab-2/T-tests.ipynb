{
 "cells": [
  {
   "cell_type": "markdown",
   "metadata": {},
   "source": [
    "### Khushi      \n",
    "\n",
    "T Test Analysis\n",
    "1. One Sample T test.\n",
    "2. 2 sample T test.\n",
    "3. Paired T test."
   ]
  },
  {
   "cell_type": "code",
   "execution_count": 31,
   "metadata": {},
   "outputs": [],
   "source": [
    "import pandas as pd\n",
    "import numpy as np\n",
    "import scipy.stats\n",
    "import seaborn as sns\n",
    "from scipy.stats import t\n",
    "from scipy.stats import norm"
   ]
  },
  {
   "cell_type": "code",
   "execution_count": 14,
   "metadata": {},
   "outputs": [
    {
     "data": {
      "text/html": [
       "<div>\n",
       "<style scoped>\n",
       "    .dataframe tbody tr th:only-of-type {\n",
       "        vertical-align: middle;\n",
       "    }\n",
       "\n",
       "    .dataframe tbody tr th {\n",
       "        vertical-align: top;\n",
       "    }\n",
       "\n",
       "    .dataframe thead th {\n",
       "        text-align: right;\n",
       "    }\n",
       "</style>\n",
       "<table border=\"1\" class=\"dataframe\">\n",
       "  <thead>\n",
       "    <tr style=\"text-align: right;\">\n",
       "      <th></th>\n",
       "      <th>Company</th>\n",
       "      <th>Film</th>\n",
       "      <th>Release</th>\n",
       "      <th>Adjusted</th>\n",
       "      <th>Worldwide</th>\n",
       "      <th>Domestic</th>\n",
       "      <th>Foreign</th>\n",
       "    </tr>\n",
       "  </thead>\n",
       "  <tbody>\n",
       "    <tr>\n",
       "      <th>59</th>\n",
       "      <td>DC</td>\n",
       "      <td>Steel</td>\n",
       "      <td>1997</td>\n",
       "      <td>2.539807</td>\n",
       "      <td>1.710972</td>\n",
       "      <td>1.710972</td>\n",
       "      <td>NaN</td>\n",
       "    </tr>\n",
       "    <tr>\n",
       "      <th>60</th>\n",
       "      <td>Marvel</td>\n",
       "      <td>The Punisher</td>\n",
       "      <td>1989</td>\n",
       "      <td>1.024880</td>\n",
       "      <td>0.533411</td>\n",
       "      <td>NaN</td>\n",
       "      <td>0.533411</td>\n",
       "    </tr>\n",
       "    <tr>\n",
       "      <th>61</th>\n",
       "      <td>DC</td>\n",
       "      <td>The Return of Swamp Thing</td>\n",
       "      <td>1989</td>\n",
       "      <td>0.370471</td>\n",
       "      <td>0.192816</td>\n",
       "      <td>0.192816</td>\n",
       "      <td>NaN</td>\n",
       "    </tr>\n",
       "    <tr>\n",
       "      <th>62</th>\n",
       "      <td>Marvel</td>\n",
       "      <td>Captain America</td>\n",
       "      <td>1990</td>\n",
       "      <td>0.018544</td>\n",
       "      <td>0.010173</td>\n",
       "      <td>NaN</td>\n",
       "      <td>0.010173</td>\n",
       "    </tr>\n",
       "    <tr>\n",
       "      <th>63</th>\n",
       "      <td>DC</td>\n",
       "      <td>Swamp Thing</td>\n",
       "      <td>1982</td>\n",
       "      <td>NaN</td>\n",
       "      <td>NaN</td>\n",
       "      <td>NaN</td>\n",
       "      <td>NaN</td>\n",
       "    </tr>\n",
       "  </tbody>\n",
       "</table>\n",
       "</div>"
      ],
      "text/plain": [
       "   Company                       Film  Release  Adjusted  Worldwide  Domestic  \\\n",
       "59      DC                      Steel     1997  2.539807   1.710972  1.710972   \n",
       "60  Marvel               The Punisher     1989  1.024880   0.533411       NaN   \n",
       "61      DC  The Return of Swamp Thing     1989  0.370471   0.192816  0.192816   \n",
       "62  Marvel            Captain America     1990  0.018544   0.010173       NaN   \n",
       "63      DC                Swamp Thing     1982       NaN        NaN       NaN   \n",
       "\n",
       "     Foreign  \n",
       "59       NaN  \n",
       "60  0.533411  \n",
       "61       NaN  \n",
       "62  0.010173  \n",
       "63       NaN  "
      ]
     },
     "execution_count": 14,
     "metadata": {},
     "output_type": "execute_result"
    }
   ],
   "source": [
    "data=pd.read_excel('Marvel-DC.xlsx')\n",
    "data.tail()"
   ]
  },
  {
   "cell_type": "code",
   "execution_count": 15,
   "metadata": {},
   "outputs": [
    {
     "data": {
      "text/plain": [
       "(0, 0)"
      ]
     },
     "execution_count": 15,
     "metadata": {},
     "output_type": "execute_result"
    }
   ],
   "source": [
    "data['Worldwide']=data['Worldwide'].fillna(data['Worldwide'].mean())\n",
    "data['Adjusted']=data['Adjusted'].fillna(data['Adjusted'].mean())\n",
    "data['Adjusted'].isna().sum(),data['Worldwide'].isna().sum()"
   ]
  },
  {
   "cell_type": "code",
   "execution_count": 16,
   "metadata": {},
   "outputs": [],
   "source": [
    "def std_dev(data):\n",
    "    mx=data.mean()\n",
    "    sd=0\n",
    "    for x in data:\n",
    "        s=np.square(x-mx)\n",
    "        sd+=s\n",
    "    sd=sd/(data.shape[0]) #variance\n",
    "    sd=np.sqrt(sd)\n",
    "    return sd    \n"
   ]
  },
  {
   "cell_type": "markdown",
   "metadata": {},
   "source": [
    "One Sample T Test"
   ]
  },
  {
   "cell_type": "code",
   "execution_count": 17,
   "metadata": {},
   "outputs": [],
   "source": [
    "#One sample T Test\n",
    "\n",
    "# For a lower-tailed test, p-value = cdf(ts)\n",
    "# For an upper-tailed test, p-value = 1 - cdf(ts)\n",
    "# For a two-tailed test, p-value = 2 * (1 - cdf(|ts|))\n",
    "\n",
    "def TTest_1s(Sdata,mu,inbuilt=0,tail=1):\n",
    "    if(inbuilt):\n",
    "        alt='two-sided'if tail==1 else ('less' if tail<1 else 'greater')\n",
    "        #alternative{‘two-sided’, ‘less’, ‘greater’}, optional\n",
    "        return scipy.stats.ttest_1samp(Sdata,popmean=mu,alternative=alt)\n",
    "    else:\n",
    "        x= Sdata.mean()\n",
    "        sd=std_dev(Sdata)\n",
    "        T_stat=((x-mu)/sd)*np.sqrt(Sdata.shape[0]-1)\n",
    "        if(tail<1):    #left Tail\n",
    "            T_stat*=-1\n",
    "            pval = t.cdf(np.abs(T_stat), Sdata.shape[0]-1)\n",
    "        if(tail==1):   #2 Tailed\n",
    "            pval = (1-t.cdf(np.abs(T_stat), Sdata.shape[0]-1))*2\n",
    "        if(tail==2):\n",
    "            pval = 1-t.cdf(np.abs(T_stat), Sdata.shape[0]-1)\n",
    "            \n",
    "        return T_stat,pval\n",
    "\n"
   ]
  },
  {
   "cell_type": "code",
   "execution_count": 18,
   "metadata": {},
   "outputs": [
    {
     "name": "stdout",
     "output_type": "stream",
     "text": [
      "With Inbuilt function:\n",
      "Ttest_1sampResult(statistic=1.4836866333720504, pvalue=0.9285609697033983)\n",
      "Without Inbuilt function:\n",
      "(-1.4836866333720506, 0.9285609697033984)\n"
     ]
    }
   ],
   "source": [
    "print(\"With Inbuilt function:\")\n",
    "print(TTest_1s(data['Adjusted'],data['Worldwide'].mean(),1,0))\n",
    "print(\"Without Inbuilt function:\")\n",
    "print(TTest_1s(data['Adjusted'],data['Worldwide'].mean(),0,0))"
   ]
  },
  {
   "cell_type": "code",
   "execution_count": 19,
   "metadata": {},
   "outputs": [
    {
     "name": "stdout",
     "output_type": "stream",
     "text": [
      "With Inbuilt function:\n",
      "Ttest_1sampResult(statistic=1.4836866333720504, pvalue=0.07143903029660167)\n",
      "Without Inbuilt function:\n",
      "(1.4836866333720506, 0.07143903029660159)\n"
     ]
    }
   ],
   "source": [
    "print(\"With Inbuilt function:\")\n",
    "print(TTest_1s(data['Adjusted'],data['Worldwide'].mean(),1,2))\n",
    "print(\"Without Inbuilt function:\")\n",
    "print(TTest_1s(data['Adjusted'],data['Worldwide'].mean(),0,2))"
   ]
  },
  {
   "cell_type": "code",
   "execution_count": 86,
   "metadata": {},
   "outputs": [],
   "source": [
    "x1=np.arange(-1*data['Adjusted'].mean(),3*data['Adjusted'].mean(),0.01)\n",
    "x2=np.arange(-1*data['Worldwide'].mean(),3*data['Worldwide'].mean(),0.01)"
   ]
  },
  {
   "cell_type": "code",
   "execution_count": 89,
   "metadata": {},
   "outputs": [
    {
     "data": {
      "text/plain": [
       "<matplotlib.lines.Line2D at 0x1c69d833bb0>"
      ]
     },
     "execution_count": 89,
     "metadata": {},
     "output_type": "execute_result"
    },
    {
     "data": {
      "image/png": "[encoded data removed]",
      "text/plain": [
       "<Figure size 432x288 with 1 Axes>"
      ]
     },
     "metadata": {},
     "output_type": "display_data"
    }
   ],
   "source": [
    "# x_axis = data['Adjusted']\n",
    "# # fig=sns.lineplot(x_axis, norm.pdf(x_axis, data['Adjusted'].mean(), std_dev(data['Adjusted'])))\n",
    "# # fig.set_xlim([-10,1000])\n",
    "# # fig.set_ylim([0.0006,0.0012])\n",
    "fig=sns.lineplot(x=x2, y=norm.pdf(x2,x2.mean(), std_dev(data['Worldwide'])),color=\"cyan\")\n",
    "fig.axvline(data['Worldwide'].mean(),color=\"cyan\",ymax=0.95)\n",
    "fig=sns.lineplot(x=x1, y=norm.pdf(x1,x1.mean(), std_dev(data['Adjusted'])),color=\"red\")\n",
    "fig.axvline(data['Adjusted'].mean(),color=\"red\",ymax=0.85)"
   ]
  },
  {
   "cell_type": "code",
   "execution_count": 20,
   "metadata": {},
   "outputs": [
    {
     "data": {
      "text/plain": [
       "<matplotlib.lines.Line2D at 0x1c6888379a0>"
      ]
     },
     "execution_count": 20,
     "metadata": {},
     "output_type": "execute_result"
    },
    {
     "data": {
      "image/png": "[encoded data removed]",
      "text/plain": [
       "<Figure size 432x288 with 1 Axes>"
      ]
     },
     "metadata": {},
     "output_type": "display_data"
    }
   ],
   "source": [
    "fig=sns.boxplot(data=data['Adjusted'])\n",
    "fig.axhline(data['Worldwide'].mean())"
   ]
  },
  {
   "cell_type": "markdown",
   "metadata": {},
   "source": [
    "2 Sample T Test"
   ]
  },
  {
   "cell_type": "code",
   "execution_count": 21,
   "metadata": {},
   "outputs": [],
   "source": [
    "# 2 Sample T test\n",
    "\n",
    "def std_dev_2s(Sdata1,Sdata2):\n",
    "    s1=std_dev(Sdata1)\n",
    "    s2=std_dev(Sdata2)\n",
    "    n1=Sdata1.shape[0]\n",
    "    n2=Sdata2.shape[0]\n",
    "    SS=((n1-1)*np.square(s1))+((n2-1)*np.square(s2))\n",
    "    SS/=n1+n2-2\n",
    "    return np.sqrt(SS)\n",
    "\n",
    "def TTest_2s(Sdata1,Sdata2,inbuilt=0,equalvar=1):\n",
    "    if(inbuilt):\n",
    "        return scipy.stats.ttest_ind(a=Sdata1, b=Sdata2, equal_var=bool(equalvar))\n",
    "    else:\n",
    "        x1= Sdata1.mean()\n",
    "        x2= Sdata2.mean()\n",
    "        n1=Sdata1.shape[0]\n",
    "        n2=Sdata2.shape[0]\n",
    "        if(equalvar):\n",
    "            sd=std_dev_2s(Sdata1,Sdata2)\n",
    "            T_stat=(x1-x2)/(sd*np.sqrt((1/(n1-1)+(1/(n2-1)))))\n",
    "        else:\n",
    "              s1=std_dev(Sdata1)\n",
    "              s2=std_dev(Sdata2)\n",
    "              T_stat=(x1-x2)/(np.sqrt((s1*s1/n1)+(s2*s2/n2)))\n",
    "        pval = t.sf(np.abs(T_stat), n1+n2-2)*2   \n",
    "        return T_stat,pval"
   ]
  },
  {
   "cell_type": "code",
   "execution_count": 22,
   "metadata": {},
   "outputs": [
    {
     "data": {
      "text/plain": [
       "Company\n",
       "DC        27\n",
       "Marvel    37\n",
       "Name: Adjusted, dtype: int64"
      ]
     },
     "execution_count": 22,
     "metadata": {},
     "output_type": "execute_result"
    }
   ],
   "source": [
    "data.groupby(by='Company')['Adjusted'].count()"
   ]
  },
  {
   "cell_type": "code",
   "execution_count": 23,
   "metadata": {},
   "outputs": [
    {
     "name": "stdout",
     "output_type": "stream",
     "text": [
      "Assume equal variances of Samples \n",
      "\n",
      "With Inbuilt Function : \n",
      "Ttest_indResult(statistic=-1.2140741313521333, pvalue=0.22932376267946378)\n",
      "Without Inbuilt Function : \n",
      "(-1.212817856417504, 0.22980038663448218) \n",
      "\n",
      "Assume unequal variances of Samples\n",
      "With Inbuilt Function : \n",
      "Ttest_indResult(statistic=-1.2298018513713647, pvalue=0.22368530627622976)\n",
      "Without Inbuilt Function : \n",
      "(-1.2502306693893925, 0.21591359058912712)\n"
     ]
    }
   ],
   "source": [
    "\n",
    "S1=data[data['Company']=='DC']['Adjusted']\n",
    "S2=data[data['Company']=='Marvel']['Adjusted']\n",
    "\n",
    "#assume equal variances of Samples\n",
    "print(\"Assume equal variances of Samples\",\"\\n\")\n",
    "print(\"With Inbuilt Function : \")\n",
    "print(TTest_2s(S1,S2,1))\n",
    "print(\"Without Inbuilt Function : \")\n",
    "print(TTest_2s(S1,S2,0),\"\\n\")\n",
    "\n",
    "#assume unequal variances of Samples\n",
    "print(\"Assume unequal variances of Samples\")\n",
    "print(\"With Inbuilt Function : \")\n",
    "print(TTest_2s(S1,S2,1,0))\n",
    "print(\"Without Inbuilt Function : \")\n",
    "print(TTest_2s(S1,S2,0,0))"
   ]
  },
  {
   "cell_type": "code",
   "execution_count": 24,
   "metadata": {},
   "outputs": [
    {
     "data": {
      "text/plain": [
       "<AxesSubplot:>"
      ]
     },
     "execution_count": 24,
     "metadata": {},
     "output_type": "execute_result"
    },
    {
     "data": {
      "image/png": "[encoded data removed]",
      "text/plain": [
       "<Figure size 432x288 with 1 Axes>"
      ]
     },
     "metadata": {},
     "output_type": "display_data"
    }
   ],
   "source": [
    "sns.boxplot(data=pd.DataFrame({'DC':S1,\"Marvel\":S2}))"
   ]
  },
  {
   "cell_type": "markdown",
   "metadata": {},
   "source": [
    "Paired T Test"
   ]
  },
  {
   "cell_type": "code",
   "execution_count": 25,
   "metadata": {},
   "outputs": [
    {
     "data": {
      "text/plain": [
       "0    271.879090\n",
       "1    397.412006\n",
       "2    188.160901\n",
       "3    -65.158444\n",
       "4     31.781982\n",
       "dtype: float64"
      ]
     },
     "execution_count": 25,
     "metadata": {},
     "output_type": "execute_result"
    }
   ],
   "source": [
    "data['Domestic']=data['Domestic'].fillna(data['Domestic'].mean())\n",
    "data['Foreign']=data['Foreign'].fillna(data['Foreign'].mean())\n",
    "data['Foreign'].isna().sum(),data['Domestic'].isna().sum()\n",
    "\n",
    "PairedSample=data['Foreign']-data['Domestic']\n",
    "PairedSample.head()"
   ]
  },
  {
   "cell_type": "code",
   "execution_count": 26,
   "metadata": {},
   "outputs": [
    {
     "name": "stdout",
     "output_type": "stream",
     "text": [
      "With Inbuilt Function : \n",
      "Ttest_1sampResult(statistic=3.54334611838087, pvalue=0.0007504799064670227)\n",
      "Without Inbuilt Function : \n",
      "(3.54334611838087, 0.0007504799064670387)\n"
     ]
    }
   ],
   "source": [
    "print(\"With Inbuilt Function : \")\n",
    "print(TTest_1s(PairedSample,0,1))\n",
    "print(\"Without Inbuilt Function : \")\n",
    "print(TTest_1s(PairedSample,0))"
   ]
  },
  {
   "cell_type": "code",
   "execution_count": 27,
   "metadata": {},
   "outputs": [
    {
     "data": {
      "text/plain": [
       "<AxesSubplot:>"
      ]
     },
     "execution_count": 27,
     "metadata": {},
     "output_type": "execute_result"
    },
    {
     "data": {
      "image/png": "[encoded data removed]",
      "text/plain": [
       "<Figure size 432x288 with 1 Axes>"
      ]
     },
     "metadata": {},
     "output_type": "display_data"
    }
   ],
   "source": [
    "sns.boxplot(data=data[['Foreign','Domestic']])"
   ]
  }
 ],
 "metadata": {
  "interpreter": {
   "hash": "2904bd9469133d0b3edd76eef0f7baebc7acdba90d2210305f62dfd86384a696"
  },
  "kernelspec": {
   "display_name": "Python 3.10.0 64-bit",
   "language": "python",
   "name": "python3"
  },
  "language_info": {
   "codemirror_mode": {
    "name": "ipython",
    "version": 3
   },
   "file_extension": ".py",
   "mimetype": "text/x-python",
   "name": "python",
   "nbconvert_exporter": "python",
   "pygments_lexer": "ipython3",
   "version": "3.10.0"
  },
  "orig_nbformat": 4
 },
 "nbformat": 4,
 "nbformat_minor": 2
}

{
 "cells": [
  {
   "cell_type": "markdown",
   "metadata": {},
   "source": [
    "### KHUSHI 19103055\n",
    "#### ANOVA - One Way, Two Way."
   ]
  },
  {
   "cell_type": "code",
   "execution_count": 1,
   "metadata": {},
   "outputs": [],
   "source": [
    "import pandas as pd\n",
    "import numpy as np\n",
    "from matplotlib import pyplot as plt\n",
    "import seaborn as sns\n",
    "import scipy.stats\n",
    "from statistics import mean\n",
    "import statsmodels as sm\n",
    "import pingouin as pg"
   ]
  },
  {
   "cell_type": "code",
   "execution_count": 2,
   "metadata": {},
   "outputs": [
    {
     "data": {
      "text/html": [
       "<div>\n",
       "<style scoped>\n",
       "    .dataframe tbody tr th:only-of-type {\n",
       "        vertical-align: middle;\n",
       "    }\n",
       "\n",
       "    .dataframe tbody tr th {\n",
       "        vertical-align: top;\n",
       "    }\n",
       "\n",
       "    .dataframe thead th {\n",
       "        text-align: right;\n",
       "    }\n",
       "</style>\n",
       "<table border=\"1\" class=\"dataframe\">\n",
       "  <thead>\n",
       "    <tr style=\"text-align: right;\">\n",
       "      <th></th>\n",
       "      <th>density</th>\n",
       "      <th>block</th>\n",
       "      <th>fertilizer</th>\n",
       "      <th>yield</th>\n",
       "    </tr>\n",
       "  </thead>\n",
       "  <tbody>\n",
       "    <tr>\n",
       "      <th>0</th>\n",
       "      <td>1</td>\n",
       "      <td>1</td>\n",
       "      <td>1</td>\n",
       "      <td>177.228692</td>\n",
       "    </tr>\n",
       "    <tr>\n",
       "      <th>1</th>\n",
       "      <td>2</td>\n",
       "      <td>2</td>\n",
       "      <td>1</td>\n",
       "      <td>177.550041</td>\n",
       "    </tr>\n",
       "    <tr>\n",
       "      <th>2</th>\n",
       "      <td>1</td>\n",
       "      <td>3</td>\n",
       "      <td>1</td>\n",
       "      <td>176.408462</td>\n",
       "    </tr>\n",
       "    <tr>\n",
       "      <th>3</th>\n",
       "      <td>2</td>\n",
       "      <td>4</td>\n",
       "      <td>1</td>\n",
       "      <td>177.703625</td>\n",
       "    </tr>\n",
       "    <tr>\n",
       "      <th>4</th>\n",
       "      <td>1</td>\n",
       "      <td>1</td>\n",
       "      <td>1</td>\n",
       "      <td>177.125486</td>\n",
       "    </tr>\n",
       "  </tbody>\n",
       "</table>\n",
       "</div>"
      ],
      "text/plain": [
       "   density  block  fertilizer       yield\n",
       "0        1      1           1  177.228692\n",
       "1        2      2           1  177.550041\n",
       "2        1      3           1  176.408462\n",
       "3        2      4           1  177.703625\n",
       "4        1      1           1  177.125486"
      ]
     },
     "execution_count": 2,
     "metadata": {},
     "output_type": "execute_result"
    }
   ],
   "source": [
    "data=pd.read_csv('crop.data.csv')\n",
    "data.head()"
   ]
  },
  {
   "cell_type": "code",
   "execution_count": 3,
   "metadata": {},
   "outputs": [
    {
     "data": {
      "text/html": [
       "<div>\n",
       "<style scoped>\n",
       "    .dataframe tbody tr th:only-of-type {\n",
       "        vertical-align: middle;\n",
       "    }\n",
       "\n",
       "    .dataframe tbody tr th {\n",
       "        vertical-align: top;\n",
       "    }\n",
       "\n",
       "    .dataframe thead th {\n",
       "        text-align: right;\n",
       "    }\n",
       "</style>\n",
       "<table border=\"1\" class=\"dataframe\">\n",
       "  <thead>\n",
       "    <tr style=\"text-align: right;\">\n",
       "      <th></th>\n",
       "      <th>density</th>\n",
       "      <th>block</th>\n",
       "      <th>fertilizer</th>\n",
       "      <th>yield</th>\n",
       "    </tr>\n",
       "  </thead>\n",
       "  <tbody>\n",
       "    <tr>\n",
       "      <th>count</th>\n",
       "      <td>96.000000</td>\n",
       "      <td>96.000000</td>\n",
       "      <td>96.000000</td>\n",
       "      <td>96.000000</td>\n",
       "    </tr>\n",
       "    <tr>\n",
       "      <th>mean</th>\n",
       "      <td>1.500000</td>\n",
       "      <td>2.500000</td>\n",
       "      <td>2.000000</td>\n",
       "      <td>177.015476</td>\n",
       "    </tr>\n",
       "    <tr>\n",
       "      <th>std</th>\n",
       "      <td>0.502625</td>\n",
       "      <td>1.123903</td>\n",
       "      <td>0.820783</td>\n",
       "      <td>0.664548</td>\n",
       "    </tr>\n",
       "    <tr>\n",
       "      <th>min</th>\n",
       "      <td>1.000000</td>\n",
       "      <td>1.000000</td>\n",
       "      <td>1.000000</td>\n",
       "      <td>175.360840</td>\n",
       "    </tr>\n",
       "    <tr>\n",
       "      <th>25%</th>\n",
       "      <td>1.000000</td>\n",
       "      <td>1.750000</td>\n",
       "      <td>1.000000</td>\n",
       "      <td>176.468696</td>\n",
       "    </tr>\n",
       "    <tr>\n",
       "      <th>50%</th>\n",
       "      <td>1.500000</td>\n",
       "      <td>2.500000</td>\n",
       "      <td>2.000000</td>\n",
       "      <td>177.058105</td>\n",
       "    </tr>\n",
       "    <tr>\n",
       "      <th>75%</th>\n",
       "      <td>2.000000</td>\n",
       "      <td>3.250000</td>\n",
       "      <td>3.000000</td>\n",
       "      <td>177.398571</td>\n",
       "    </tr>\n",
       "    <tr>\n",
       "      <th>max</th>\n",
       "      <td>2.000000</td>\n",
       "      <td>4.000000</td>\n",
       "      <td>3.000000</td>\n",
       "      <td>179.060899</td>\n",
       "    </tr>\n",
       "  </tbody>\n",
       "</table>\n",
       "</div>"
      ],
      "text/plain": [
       "         density      block  fertilizer       yield\n",
       "count  96.000000  96.000000   96.000000   96.000000\n",
       "mean    1.500000   2.500000    2.000000  177.015476\n",
       "std     0.502625   1.123903    0.820783    0.664548\n",
       "min     1.000000   1.000000    1.000000  175.360840\n",
       "25%     1.000000   1.750000    1.000000  176.468696\n",
       "50%     1.500000   2.500000    2.000000  177.058105\n",
       "75%     2.000000   3.250000    3.000000  177.398571\n",
       "max     2.000000   4.000000    3.000000  179.060899"
      ]
     },
     "execution_count": 3,
     "metadata": {},
     "output_type": "execute_result"
    }
   ],
   "source": [
    "data.describe()"
   ]
  },
  {
   "cell_type": "code",
   "execution_count": 4,
   "metadata": {},
   "outputs": [
    {
     "data": {
      "text/plain": [
       "fertilizer\n",
       "1    32\n",
       "2    32\n",
       "3    32\n",
       "Name: fertilizer, dtype: int64"
      ]
     },
     "execution_count": 4,
     "metadata": {},
     "output_type": "execute_result"
    }
   ],
   "source": [
    "data.groupby(by='fertilizer')['fertilizer'].count()"
   ]
  },
  {
   "cell_type": "code",
   "execution_count": 5,
   "metadata": {},
   "outputs": [],
   "source": [
    "def OneWay(Samples,K,Y,inbuilt=0):\n",
    "    if(inbuilt):\n",
    "        return scipy.stats.f_oneway(*Samples)\n",
    "    else:\n",
    "        Yg=[]\n",
    "        Ng=[]\n",
    "        sumB=0 #explained sum = sum(df*group mean devn from combined mean)\n",
    "        sumW=0 #unexplained sum = sum(squares (y[i][j]-y[i]))\n",
    "        df=0 #total degrees of freedom\n",
    "        for i in range(0,K):\n",
    "            Yg.append(Samples[i].mean())\n",
    "            Ng.append(Samples[i].shape[0])\n",
    "            df+=Ng[i]\n",
    "            sumB+=Ng[i]*(np.square(Yg[i]-Y))\n",
    "            for y in Samples[i]:\n",
    "                sumW+=np.square(y-Yg[i])   #or (Ng-1)*std_dev(Samples[i])\n",
    "              \n",
    "        df-=K  \n",
    "        #mean sum of squares between  and within  \n",
    "        MSB=sumB/(K-1)\n",
    "        MSW=sumW/(df)\n",
    "        \n",
    "        return MSB/MSW,scipy.stats.f.sf(MSB/MSW, K-1,df)\n",
    "    "
   ]
  },
  {
   "cell_type": "code",
   "execution_count": 6,
   "metadata": {},
   "outputs": [
    {
     "name": "stdout",
     "output_type": "stream",
     "text": [
      "With Inbuilt Function : \n",
      "F_onewayResult(statistic=7.862751645215487, pvalue=0.0006999157502874401)\n",
      "Without Inbuilt Function : \n",
      "(7.862751645215538, 0.0006999157502874105)\n"
     ]
    },
    {
     "data": {
      "text/plain": [
       "<matplotlib.lines.Line2D at 0x1e2596bde70>"
      ]
     },
     "execution_count": 6,
     "metadata": {},
     "output_type": "execute_result"
    },
    {
     "data": {
      "image/png": "[encoded data removed]",
      "text/plain": [
       "<Figure size 1080x576 with 1 Axes>"
      ]
     },
     "metadata": {},
     "output_type": "display_data"
    }
   ],
   "source": [
    "F1=data[data['fertilizer']==1]['yield']\n",
    "F2=data[data['fertilizer']==2]['yield']\n",
    "F3=data[data['fertilizer']==3]['yield']\n",
    "#Combined mean\n",
    "Y=data['yield'].mean()\n",
    "print(\"With Inbuilt Function : \")\n",
    "print(OneWay([F1,F2,F3],3,Y,1))\n",
    "print(\"Without Inbuilt Function : \")\n",
    "print(OneWay([F1,F2,F3],3,Y,0))\n",
    "plt.figure(figsize=(15,8))\n",
    "fig=sns.violinplot(x=data['fertilizer'],y=data['yield'])\n",
    "fig=sns.pointplot(x=data['fertilizer'],y=data['yield'],color=\"red\")\n",
    "fig.axhline(Y,color='aqua')\n"
   ]
  },
  {
   "cell_type": "code",
   "execution_count": 7,
   "metadata": {},
   "outputs": [
    {
     "data": {
      "text/html": [
       "<div>\n",
       "<style scoped>\n",
       "    .dataframe tbody tr th:only-of-type {\n",
       "        vertical-align: middle;\n",
       "    }\n",
       "\n",
       "    .dataframe tbody tr th {\n",
       "        vertical-align: top;\n",
       "    }\n",
       "\n",
       "    .dataframe thead th {\n",
       "        text-align: right;\n",
       "    }\n",
       "</style>\n",
       "<table border=\"1\" class=\"dataframe\">\n",
       "  <thead>\n",
       "    <tr style=\"text-align: right;\">\n",
       "      <th></th>\n",
       "      <th>density</th>\n",
       "      <th>fertilizer</th>\n",
       "      <th>yield</th>\n",
       "    </tr>\n",
       "  </thead>\n",
       "  <tbody>\n",
       "    <tr>\n",
       "      <th>0</th>\n",
       "      <td>1</td>\n",
       "      <td>1</td>\n",
       "      <td>176.439598</td>\n",
       "    </tr>\n",
       "    <tr>\n",
       "      <th>1</th>\n",
       "      <td>1</td>\n",
       "      <td>2</td>\n",
       "      <td>176.778288</td>\n",
       "    </tr>\n",
       "    <tr>\n",
       "      <th>2</th>\n",
       "      <td>1</td>\n",
       "      <td>3</td>\n",
       "      <td>177.135608</td>\n",
       "    </tr>\n",
       "    <tr>\n",
       "      <th>3</th>\n",
       "      <td>2</td>\n",
       "      <td>1</td>\n",
       "      <td>177.074491</td>\n",
       "    </tr>\n",
       "    <tr>\n",
       "      <th>4</th>\n",
       "      <td>2</td>\n",
       "      <td>2</td>\n",
       "      <td>177.088139</td>\n",
       "    </tr>\n",
       "    <tr>\n",
       "      <th>5</th>\n",
       "      <td>2</td>\n",
       "      <td>3</td>\n",
       "      <td>177.576732</td>\n",
       "    </tr>\n",
       "  </tbody>\n",
       "</table>\n",
       "</div>"
      ],
      "text/plain": [
       "   density  fertilizer       yield\n",
       "0        1           1  176.439598\n",
       "1        1           2  176.778288\n",
       "2        1           3  177.135608\n",
       "3        2           1  177.074491\n",
       "4        2           2  177.088139\n",
       "5        2           3  177.576732"
      ]
     },
     "execution_count": 7,
     "metadata": {},
     "output_type": "execute_result"
    }
   ],
   "source": [
    "data.groupby(['density','fertilizer'])['yield'].mean().reset_index()"
   ]
  },
  {
   "cell_type": "code",
   "execution_count": 8,
   "metadata": {},
   "outputs": [
    {
     "data": {
      "text/html": [
       "<div>\n",
       "<style scoped>\n",
       "    .dataframe tbody tr th:only-of-type {\n",
       "        vertical-align: middle;\n",
       "    }\n",
       "\n",
       "    .dataframe tbody tr th {\n",
       "        vertical-align: top;\n",
       "    }\n",
       "\n",
       "    .dataframe thead th {\n",
       "        text-align: right;\n",
       "    }\n",
       "</style>\n",
       "<table border=\"1\" class=\"dataframe\">\n",
       "  <thead>\n",
       "    <tr style=\"text-align: right;\">\n",
       "      <th></th>\n",
       "      <th>Person</th>\n",
       "      <th>time</th>\n",
       "      <th>poison</th>\n",
       "      <th>treat</th>\n",
       "    </tr>\n",
       "  </thead>\n",
       "  <tbody>\n",
       "    <tr>\n",
       "      <th>0</th>\n",
       "      <td>1</td>\n",
       "      <td>0.31</td>\n",
       "      <td>1</td>\n",
       "      <td>A</td>\n",
       "    </tr>\n",
       "    <tr>\n",
       "      <th>1</th>\n",
       "      <td>2</td>\n",
       "      <td>0.45</td>\n",
       "      <td>1</td>\n",
       "      <td>A</td>\n",
       "    </tr>\n",
       "    <tr>\n",
       "      <th>2</th>\n",
       "      <td>3</td>\n",
       "      <td>0.46</td>\n",
       "      <td>1</td>\n",
       "      <td>A</td>\n",
       "    </tr>\n",
       "    <tr>\n",
       "      <th>3</th>\n",
       "      <td>4</td>\n",
       "      <td>0.43</td>\n",
       "      <td>1</td>\n",
       "      <td>A</td>\n",
       "    </tr>\n",
       "    <tr>\n",
       "      <th>4</th>\n",
       "      <td>5</td>\n",
       "      <td>0.36</td>\n",
       "      <td>2</td>\n",
       "      <td>A</td>\n",
       "    </tr>\n",
       "  </tbody>\n",
       "</table>\n",
       "</div>"
      ],
      "text/plain": [
       "   Person  time  poison treat\n",
       "0       1  0.31       1     A\n",
       "1       2  0.45       1     A\n",
       "2       3  0.46       1     A\n",
       "3       4  0.43       1     A\n",
       "4       5  0.36       2     A"
      ]
     },
     "execution_count": 8,
     "metadata": {},
     "output_type": "execute_result"
    }
   ],
   "source": [
    "data2=pd.read_csv('poison-data.csv')\n",
    "data2.head()"
   ]
  },
  {
   "cell_type": "code",
   "execution_count": 9,
   "metadata": {},
   "outputs": [
    {
     "name": "stdout",
     "output_type": "stream",
     "text": [
      "With Inbuilt Function : \n",
      "F_onewayResult(statistic=6.483606262371779, pvalue=0.0009920770773107095)\n",
      "Without Inbuilt Function : \n",
      "(6.483606262371781, 0.0009920770773107095)\n"
     ]
    }
   ],
   "source": [
    "a=data2[data2['treat']=='A']['time']\n",
    "b=data2[data2['treat']=='B']['time']\n",
    "c=data2[data2['treat']=='C']['time']\n",
    "d=data2[data2['treat']=='D']['time']\n",
    "print(\"With Inbuilt Function : \")\n",
    "print(OneWay([a,b,c,d],4,data2['time'].mean(),1))\n",
    "print(\"Without Inbuilt Function : \")\n",
    "print(OneWay([a,b,c,d],4,data2['time'].mean(),0))"
   ]
  },
  {
   "cell_type": "markdown",
   "metadata": {},
   "source": [
    "### TWO WAY ANOVA"
   ]
  },
  {
   "cell_type": "code",
   "execution_count": 10,
   "metadata": {},
   "outputs": [
    {
     "data": {
      "text/html": [
       "<div>\n",
       "<style scoped>\n",
       "    .dataframe tbody tr th:only-of-type {\n",
       "        vertical-align: middle;\n",
       "    }\n",
       "\n",
       "    .dataframe tbody tr th {\n",
       "        vertical-align: top;\n",
       "    }\n",
       "\n",
       "    .dataframe thead th {\n",
       "        text-align: right;\n",
       "    }\n",
       "</style>\n",
       "<table border=\"1\" class=\"dataframe\">\n",
       "  <thead>\n",
       "    <tr style=\"text-align: right;\">\n",
       "      <th></th>\n",
       "      <th>Person</th>\n",
       "      <th>time</th>\n",
       "      <th>poison</th>\n",
       "      <th>treat</th>\n",
       "    </tr>\n",
       "  </thead>\n",
       "  <tbody>\n",
       "    <tr>\n",
       "      <th>0</th>\n",
       "      <td>1</td>\n",
       "      <td>0.31</td>\n",
       "      <td>1</td>\n",
       "      <td>A</td>\n",
       "    </tr>\n",
       "    <tr>\n",
       "      <th>1</th>\n",
       "      <td>2</td>\n",
       "      <td>0.45</td>\n",
       "      <td>1</td>\n",
       "      <td>A</td>\n",
       "    </tr>\n",
       "    <tr>\n",
       "      <th>2</th>\n",
       "      <td>3</td>\n",
       "      <td>0.46</td>\n",
       "      <td>1</td>\n",
       "      <td>A</td>\n",
       "    </tr>\n",
       "    <tr>\n",
       "      <th>3</th>\n",
       "      <td>4</td>\n",
       "      <td>0.43</td>\n",
       "      <td>1</td>\n",
       "      <td>A</td>\n",
       "    </tr>\n",
       "    <tr>\n",
       "      <th>4</th>\n",
       "      <td>5</td>\n",
       "      <td>0.36</td>\n",
       "      <td>2</td>\n",
       "      <td>A</td>\n",
       "    </tr>\n",
       "  </tbody>\n",
       "</table>\n",
       "</div>"
      ],
      "text/plain": [
       "   Person  time  poison treat\n",
       "0       1  0.31       1     A\n",
       "1       2  0.45       1     A\n",
       "2       3  0.46       1     A\n",
       "3       4  0.43       1     A\n",
       "4       5  0.36       2     A"
      ]
     },
     "execution_count": 10,
     "metadata": {},
     "output_type": "execute_result"
    }
   ],
   "source": [
    "data2.head()"
   ]
  },
  {
   "cell_type": "code",
   "execution_count": 11,
   "metadata": {},
   "outputs": [
    {
     "data": {
      "text/html": [
       "<div>\n",
       "<style scoped>\n",
       "    .dataframe tbody tr th:only-of-type {\n",
       "        vertical-align: middle;\n",
       "    }\n",
       "\n",
       "    .dataframe tbody tr th {\n",
       "        vertical-align: top;\n",
       "    }\n",
       "\n",
       "    .dataframe thead th {\n",
       "        text-align: right;\n",
       "    }\n",
       "</style>\n",
       "<table border=\"1\" class=\"dataframe\">\n",
       "  <thead>\n",
       "    <tr style=\"text-align: right;\">\n",
       "      <th>treat</th>\n",
       "      <th>A</th>\n",
       "      <th>B</th>\n",
       "      <th>C</th>\n",
       "      <th>D</th>\n",
       "    </tr>\n",
       "    <tr>\n",
       "      <th>poison</th>\n",
       "      <th></th>\n",
       "      <th></th>\n",
       "      <th></th>\n",
       "      <th></th>\n",
       "    </tr>\n",
       "  </thead>\n",
       "  <tbody>\n",
       "    <tr>\n",
       "      <th>1</th>\n",
       "      <td>0.4125</td>\n",
       "      <td>0.880</td>\n",
       "      <td>0.5675</td>\n",
       "      <td>0.6100</td>\n",
       "    </tr>\n",
       "    <tr>\n",
       "      <th>2</th>\n",
       "      <td>0.3200</td>\n",
       "      <td>0.815</td>\n",
       "      <td>0.3750</td>\n",
       "      <td>0.6675</td>\n",
       "    </tr>\n",
       "    <tr>\n",
       "      <th>3</th>\n",
       "      <td>0.2100</td>\n",
       "      <td>0.335</td>\n",
       "      <td>0.2350</td>\n",
       "      <td>0.3250</td>\n",
       "    </tr>\n",
       "  </tbody>\n",
       "</table>\n",
       "</div>"
      ],
      "text/plain": [
       "treat        A      B       C       D\n",
       "poison                               \n",
       "1       0.4125  0.880  0.5675  0.6100\n",
       "2       0.3200  0.815  0.3750  0.6675\n",
       "3       0.2100  0.335  0.2350  0.3250"
      ]
     },
     "execution_count": 11,
     "metadata": {},
     "output_type": "execute_result"
    }
   ],
   "source": [
    "#making a pivot table for visualization\n",
    "sampletable=pd.pivot_table(data=data2,index=['poison'],columns=['treat'],values='time',aggfunc='mean')\n",
    "sampletable\n"
   ]
  },
  {
   "cell_type": "code",
   "execution_count": 12,
   "metadata": {},
   "outputs": [
    {
     "data": {
      "text/plain": [
       "<AxesSubplot:xlabel='treat', ylabel='poison'>"
      ]
     },
     "execution_count": 12,
     "metadata": {},
     "output_type": "execute_result"
    },
    {
     "data": {
      "image/png": "[encoded data removed]",
      "text/plain": [
       "<Figure size 432x288 with 2 Axes>"
      ]
     },
     "metadata": {},
     "output_type": "display_data"
    }
   ],
   "source": [
    "sns.heatmap(sampletable,cmap=\"Blues\")"
   ]
  },
  {
   "cell_type": "code",
   "execution_count": 13,
   "metadata": {},
   "outputs": [
    {
     "data": {
      "text/html": [
       "<div>\n",
       "<style scoped>\n",
       "    .dataframe tbody tr th:only-of-type {\n",
       "        vertical-align: middle;\n",
       "    }\n",
       "\n",
       "    .dataframe tbody tr th {\n",
       "        vertical-align: top;\n",
       "    }\n",
       "\n",
       "    .dataframe thead th {\n",
       "        text-align: right;\n",
       "    }\n",
       "</style>\n",
       "<table border=\"1\" class=\"dataframe\">\n",
       "  <thead>\n",
       "    <tr style=\"text-align: right;\">\n",
       "      <th></th>\n",
       "      <th>df</th>\n",
       "      <th>sum_sq</th>\n",
       "      <th>mean_sq</th>\n",
       "      <th>F</th>\n",
       "      <th>PR(&gt;F)</th>\n",
       "    </tr>\n",
       "  </thead>\n",
       "  <tbody>\n",
       "    <tr>\n",
       "      <th>C(treat)</th>\n",
       "      <td>3.0</td>\n",
       "      <td>0.921206</td>\n",
       "      <td>0.307069</td>\n",
       "      <td>13.805582</td>\n",
       "      <td>3.777331e-06</td>\n",
       "    </tr>\n",
       "    <tr>\n",
       "      <th>C(poison)</th>\n",
       "      <td>2.0</td>\n",
       "      <td>1.033013</td>\n",
       "      <td>0.516506</td>\n",
       "      <td>23.221737</td>\n",
       "      <td>3.331440e-07</td>\n",
       "    </tr>\n",
       "    <tr>\n",
       "      <th>C(treat):C(poison)</th>\n",
       "      <td>6.0</td>\n",
       "      <td>0.250138</td>\n",
       "      <td>0.041690</td>\n",
       "      <td>1.874333</td>\n",
       "      <td>1.122506e-01</td>\n",
       "    </tr>\n",
       "    <tr>\n",
       "      <th>Residual</th>\n",
       "      <td>36.0</td>\n",
       "      <td>0.800725</td>\n",
       "      <td>0.022242</td>\n",
       "      <td>NaN</td>\n",
       "      <td>NaN</td>\n",
       "    </tr>\n",
       "  </tbody>\n",
       "</table>\n",
       "</div>"
      ],
      "text/plain": [
       "                      df    sum_sq   mean_sq          F        PR(>F)\n",
       "C(treat)             3.0  0.921206  0.307069  13.805582  3.777331e-06\n",
       "C(poison)            2.0  1.033013  0.516506  23.221737  3.331440e-07\n",
       "C(treat):C(poison)   6.0  0.250138  0.041690   1.874333  1.122506e-01\n",
       "Residual            36.0  0.800725  0.022242        NaN           NaN"
      ]
     },
     "execution_count": 13,
     "metadata": {},
     "output_type": "execute_result"
    }
   ],
   "source": [
    "import statsmodels.api as sm\n",
    "from statsmodels.formula.api import ols\n",
    "model = ols('time ~ C(treat) + C(poison) + C(treat):C(poison)', data=data2).fit()\n",
    "sm.stats.anova_lm(model)"
   ]
  },
  {
   "cell_type": "code",
   "execution_count": 14,
   "metadata": {},
   "outputs": [
    {
     "data": {
      "text/html": [
       "<div>\n",
       "<style scoped>\n",
       "    .dataframe tbody tr th:only-of-type {\n",
       "        vertical-align: middle;\n",
       "    }\n",
       "\n",
       "    .dataframe tbody tr th {\n",
       "        vertical-align: top;\n",
       "    }\n",
       "\n",
       "    .dataframe thead th {\n",
       "        text-align: right;\n",
       "    }\n",
       "</style>\n",
       "<table border=\"1\" class=\"dataframe\">\n",
       "  <thead>\n",
       "    <tr style=\"text-align: right;\">\n",
       "      <th></th>\n",
       "      <th>0</th>\n",
       "      <th>1</th>\n",
       "      <th>2</th>\n",
       "      <th>3</th>\n",
       "      <th>4</th>\n",
       "      <th>5</th>\n",
       "      <th>6</th>\n",
       "      <th>7</th>\n",
       "      <th>8</th>\n",
       "      <th>9</th>\n",
       "      <th>10</th>\n",
       "      <th>11</th>\n",
       "    </tr>\n",
       "  </thead>\n",
       "  <tbody>\n",
       "    <tr>\n",
       "      <th>treat</th>\n",
       "      <td>A</td>\n",
       "      <td>A</td>\n",
       "      <td>A</td>\n",
       "      <td>B</td>\n",
       "      <td>B</td>\n",
       "      <td>B</td>\n",
       "      <td>C</td>\n",
       "      <td>C</td>\n",
       "      <td>C</td>\n",
       "      <td>D</td>\n",
       "      <td>D</td>\n",
       "      <td>D</td>\n",
       "    </tr>\n",
       "    <tr>\n",
       "      <th>poison</th>\n",
       "      <td>1</td>\n",
       "      <td>2</td>\n",
       "      <td>3</td>\n",
       "      <td>1</td>\n",
       "      <td>2</td>\n",
       "      <td>3</td>\n",
       "      <td>1</td>\n",
       "      <td>2</td>\n",
       "      <td>3</td>\n",
       "      <td>1</td>\n",
       "      <td>2</td>\n",
       "      <td>3</td>\n",
       "    </tr>\n",
       "    <tr>\n",
       "      <th>time</th>\n",
       "      <td>0.4125</td>\n",
       "      <td>0.32</td>\n",
       "      <td>0.21</td>\n",
       "      <td>0.88</td>\n",
       "      <td>0.815</td>\n",
       "      <td>0.335</td>\n",
       "      <td>0.5675</td>\n",
       "      <td>0.375</td>\n",
       "      <td>0.235</td>\n",
       "      <td>0.61</td>\n",
       "      <td>0.6675</td>\n",
       "      <td>0.325</td>\n",
       "    </tr>\n",
       "  </tbody>\n",
       "</table>\n",
       "</div>"
      ],
      "text/plain": [
       "            0     1     2     3      4      5       6      7      8     9   \\\n",
       "treat        A     A     A     B      B      B       C      C      C     D   \n",
       "poison       1     2     3     1      2      3       1      2      3     1   \n",
       "time    0.4125  0.32  0.21  0.88  0.815  0.335  0.5675  0.375  0.235  0.61   \n",
       "\n",
       "            10     11  \n",
       "treat        D      D  \n",
       "poison       2      3  \n",
       "time    0.6675  0.325  "
      ]
     },
     "execution_count": 14,
     "metadata": {},
     "output_type": "execute_result"
    }
   ],
   "source": [
    "data2.groupby(['treat','poison'])['time'].mean().reset_index().T"
   ]
  },
  {
   "cell_type": "code",
   "execution_count": 15,
   "metadata": {},
   "outputs": [
    {
     "data": {
      "text/plain": [
       "0.8007249999999999"
      ]
     },
     "execution_count": 15,
     "metadata": {},
     "output_type": "execute_result"
    }
   ],
   "source": [
    "def residuals(data,col1,col2,affected):\n",
    "     meangroup=data2.groupby([col1,col2])[affected].mean().reset_index()\n",
    "     def func(x):\n",
    "          m=meangroup.loc[(meangroup[col1]==x[col1]) & (meangroup[col2]==x[col2])][affected].sum()\n",
    "          x['Sresidual']=np.square(x[affected]-m)\n",
    "          return x\n",
    "\n",
    "     data=data.apply(lambda x: func(x),axis=1)\n",
    "     return data['Sresidual'].sum()\n",
    "residuals(data2,'treat','poison','time')"
   ]
  },
  {
   "cell_type": "code",
   "execution_count": 16,
   "metadata": {},
   "outputs": [],
   "source": [
    "def TwoWay(data,col1,col2,affected,inbuilt=0):\n",
    "    if(inbuilt):\n",
    "        aov = pg.anova(dv=affected, between=[col1,col2], data=data,detailed=True)\n",
    "        return aov\n",
    "    else:\n",
    "        meangroup=data.groupby([col1,col2])[affected].mean().reset_index()\n",
    "        def residuals(data):\n",
    "            def func(x):\n",
    "                m=meangroup.loc[(meangroup[col1]==x[col1]) & (meangroup[col2]==x[col2])][affected].sum()\n",
    "                x['Sresidual']=np.square(x[affected]-m)\n",
    "                return x\n",
    "\n",
    "            data=data.apply(lambda x: func(x),axis=1)\n",
    "            return data['Sresidual'].sum()\n",
    "    \n",
    "        Xval=meangroup[col1].unique()\n",
    "        Yval=meangroup[col2].unique()\n",
    "        meanX=[]\n",
    "        meanY=[]\n",
    "        r=data.shape[0]-meangroup.shape[0] #residual df = data.size(n)-unique blocks(group by both cols)\n",
    "        df=[(len(Xval)-1),(len(Yval)-1),(len(Xval)-1)*(len(Yval)-1),r]  \n",
    "        SS=[]\n",
    "        Nx=list(data.groupby(col1)[affected].count())\n",
    "        Ny=list(data.groupby(col2)[affected].count())\n",
    "        for i in Xval: \n",
    "           meanX.append(meangroup[meangroup[col1]==i][affected].mean())\n",
    "        for i in Yval:\n",
    "            meanY.append(meangroup[meangroup[col2]==i][affected].mean())\n",
    "        Tmean=mean(meanX+meanY)\n",
    "        SST= np.square(list(data['time']-Tmean)).sum()  #Total sum of squares\n",
    "        sumBX=0 #explained sum along X = sum(df*group mean X devn from combined mean)\n",
    "        sumBY=0 #explained sum along Y = sum(df*group mean Y devn from combined mean)\n",
    "        for i in range (0,len(Xval)):\n",
    "            sumBX+=Nx[i]*np.square(meanX[i]-Tmean)\n",
    "        for i in range (0,len(Yval)):\n",
    "            sumBY+=Ny[i]*np.square(meanY[i]-Tmean)\n",
    "        SSR=residuals(data)  #residual - unexplained error\n",
    "        SSE=SST-sumBX-sumBY-SSR\n",
    "        #SSE = total errror - error from a - error from b - residual \n",
    "        MSX=sumBX/df[0]\n",
    "        MSY=sumBY/df[1]\n",
    "        MSE=SSE/df[2]\n",
    "        MSR=SSR/df[3]\n",
    "        SS=[sumBX,sumBY,SSE,SSR]\n",
    "        MS=[MSX,MSY,MSE,MSR]\n",
    "        F=MS/MSR\n",
    "        F[3]=np.nan\n",
    "        P=[]\n",
    "        np2=SS/(SSR+SS)\n",
    "        np2[3]=np.nan\n",
    "        for i in range(4):\n",
    "            P.append(scipy.stats.f.sf(F[i],df[i],r))\n",
    "        return pd.DataFrame({'Source':[col1,col2,col1+\"*\"+col2,\"residual\"],\n",
    "                             'DF':df,'SS':SS,'MS':MS,'F':F,'P':P,'np2':np2})"
   ]
  },
  {
   "cell_type": "code",
   "execution_count": 17,
   "metadata": {},
   "outputs": [
    {
     "name": "stdout",
     "output_type": "stream",
     "text": [
      " Two way Anova without Inbuilt Function : \n",
      "\n",
      "         Source  DF        SS        MS          F             P       np2\n",
      "0         treat   3  0.921206  0.307069  13.805582  3.777331e-06  0.534984\n",
      "1        poison   2  1.033012  0.516506  23.221737  3.331440e-07  0.563337\n",
      "2  treat*poison   6  0.250138  0.041690   1.874333  1.122506e-01  0.238031\n",
      "3      residual  36  0.800725  0.022242        NaN           NaN       NaN \n",
      "\n",
      "\n",
      " Two way Anova with Inbuilt Function : \n",
      "\n",
      "           Source        SS  DF        MS          F         p-unc       np2\n",
      "0           treat  0.921206   3  0.307069  13.805582  3.777331e-06  0.534984\n",
      "1          poison  1.033013   2  0.516506  23.221737  3.331440e-07  0.563337\n",
      "2  treat * poison  0.250137   6  0.041690   1.874333  1.122506e-01  0.238031\n",
      "3        Residual  0.800725  36  0.022242        NaN           NaN       NaN \n",
      "\n"
     ]
    }
   ],
   "source": [
    "print(\" Two way Anova without Inbuilt Function : \\n\")\n",
    "print(TwoWay(data2,'treat','poison','time',0),\"\\n\\n\")\n",
    "print(\" Two way Anova with Inbuilt Function : \\n\")\n",
    "print(TwoWay(data2,'treat','poison','time',1),\"\\n\")"
   ]
  },
  {
   "cell_type": "markdown",
   "metadata": {},
   "source": [
    "# DONE!!"
   ]
  }
 ],
 "metadata": {
  "interpreter": {
   "hash": "2904bd9469133d0b3edd76eef0f7baebc7acdba90d2210305f62dfd86384a696"
  },
  "kernelspec": {
   "display_name": "Python 3.10.0 64-bit",
   "language": "python",
   "name": "python3"
  },
  "language_info": {
   "codemirror_mode": {
    "name": "ipython",
    "version": 3
   },
   "file_extension": ".py",
   "mimetype": "text/x-python",
   "name": "python",
   "nbconvert_exporter": "python",
   "pygments_lexer": "ipython3",
   "version": "3.10.0"
  },
  "orig_nbformat": 4
 },
 "nbformat": 4,
 "nbformat_minor": 2
}
